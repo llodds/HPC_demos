{
  "nbformat": 4,
  "nbformat_minor": 0,
  "metadata": {
    "kernelspec": {
      "display_name": "(cuda-11.0) Python 3",
      "language": "python",
      "name": "conda-env-cuda-11.0-py"
    },
    "language_info": {
      "codemirror_mode": {
        "name": "ipython",
        "version": 3
      },
      "file_extension": ".py",
      "mimetype": "text/x-python",
      "name": "python",
      "nbconvert_exporter": "python",
      "pygments_lexer": "ipython3",
      "version": "3.8.8"
    },
    "colab": {
      "name": "test-tensorboard.ipynb",
      "provenance": []
    }
  },
  "cells": [
    {
      "cell_type": "code",
      "metadata": {
        "id": "_YCnHI6bHGkJ"
      },
      "source": [
        "import tensorflow as tf\n",
        "from tensorflow import keras\n",
        "from tensorflow.keras import layers\n",
        "import numpy as np\n",
        "import time"
      ],
      "execution_count": null,
      "outputs": []
    },
    {
      "cell_type": "code",
      "metadata": {
        "id": "SPUr1Z3OHR6U"
      },
      "source": [
        "!rm -rf ./logdir"
      ],
      "execution_count": null,
      "outputs": []
    },
    {
      "cell_type": "code",
      "metadata": {
        "id": "PH6NSowPHwSM"
      },
      "source": [
        "%load_ext tensorboard"
      ],
      "execution_count": null,
      "outputs": []
    },
    {
      "cell_type": "code",
      "metadata": {
        "id": "o0HJY18XHGkL"
      },
      "source": [
        "inputs = keras.Input(shape=(784,), name=\"digits\")\n",
        "x1 = layers.Dense(64, activation=\"relu\")(inputs)\n",
        "x2 = layers.Dense(64, activation=\"relu\")(x1)\n",
        "outputs = layers.Dense(10, name=\"predictions\")(x2)\n",
        "model = keras.Model(inputs=inputs, outputs=outputs)"
      ],
      "execution_count": null,
      "outputs": []
    },
    {
      "cell_type": "code",
      "metadata": {
        "id": "hHzxiPVjHGkL"
      },
      "source": [
        "# Instantiate an optimizer.\n",
        "optimizer = keras.optimizers.SGD(learning_rate=1e-3)\n",
        "# Instantiate a loss function.\n",
        "loss_fn = keras.losses.SparseCategoricalCrossentropy(from_logits=True)\n",
        "\n",
        "# Prepare the training dataset.\n",
        "batch_size = 64\n",
        "(x_train, y_train), (x_test, y_test) = keras.datasets.mnist.load_data()\n",
        "x_train = np.reshape(x_train, (-1, 784))\n",
        "x_test = np.reshape(x_test, (-1, 784))\n",
        "\n",
        "# Reserve 10,000 samples for validation.\n",
        "x_val = x_train[-10000:]\n",
        "y_val = y_train[-10000:]\n",
        "x_train = x_train[:-10000]\n",
        "y_train = y_train[:-10000]\n",
        "\n",
        "# Prepare the training dataset.\n",
        "train_dataset = tf.data.Dataset.from_tensor_slices((x_train, y_train))\n",
        "train_dataset = train_dataset.shuffle(buffer_size=1024).batch(batch_size)\n",
        "\n",
        "# Prepare the validation dataset.\n",
        "val_dataset = tf.data.Dataset.from_tensor_slices((x_val, y_val))\n",
        "val_dataset = val_dataset.batch(batch_size)"
      ],
      "execution_count": null,
      "outputs": []
    },
    {
      "cell_type": "code",
      "metadata": {
        "id": "nNxdFusdHGkM"
      },
      "source": [
        "@tf.function\n",
        "def train_step(x, y):\n",
        "    with tf.GradientTape() as tape:\n",
        "        logits = model(x, training=True)\n",
        "        loss_value = loss_fn(y, logits)\n",
        "    grads = tape.gradient(loss_value, model.trainable_weights)\n",
        "    optimizer.apply_gradients(zip(grads, model.trainable_weights))\n",
        "    return loss_value"
      ],
      "execution_count": null,
      "outputs": []
    },
    {
      "cell_type": "code",
      "metadata": {
        "id": "Nbv751WqHGkM"
      },
      "source": [
        "!pip install -U tensorboard-plugin-profile\n",
        "%tensorboard --logdir logdir"
      ],
      "execution_count": null,
      "outputs": []
    },
    {
      "cell_type": "code",
      "metadata": {
        "id": "UTnLpClZHGkM",
        "outputId": "d37ddfc2-7279-4287-dcd0-34073d3e811a"
      },
      "source": [
        "epochs = 2\n",
        "with tf.profiler.experimental.Profile('logdir'):\n",
        "  for epoch in range(epochs):\n",
        "      print(\"\\nStart of epoch %d\" % (epoch,))\n",
        "      start_time = time.time()\n",
        "\n",
        "      # Iterate over the batches of the dataset.\n",
        "      for step, (x_batch_train, y_batch_train) in enumerate(train_dataset):\n",
        "          loss_value = train_step(x_batch_train, y_batch_train)\n",
        "\n",
        "          # Log every 200 batches.\n",
        "          if step % 200 == 0:\n",
        "              print(\n",
        "                  \"Training loss (for one batch) at step %d: %.4f\"\n",
        "                  % (step, float(loss_value))\n",
        "              )\n",
        "              print(\"Seen so far: %d samples\" % ((step + 1) * batch_size))\n",
        "      print(\"Time taken: %.2fs\" % (time.time() - start_time))"
      ],
      "execution_count": null,
      "outputs": [
        {
          "output_type": "stream",
          "text": [
            "\n",
            "Start of epoch 0\n",
            "Training loss (for one batch) at step 0: 76.0347\n",
            "Seen so far: 64 samples\n",
            "Training loss (for one batch) at step 200: 1.3555\n",
            "Seen so far: 12864 samples\n",
            "Training loss (for one batch) at step 400: 1.0161\n",
            "Seen so far: 25664 samples\n",
            "Training loss (for one batch) at step 600: 0.4908\n",
            "Seen so far: 38464 samples\n",
            "Time taken: 1.74s\n",
            "\n",
            "Start of epoch 1\n",
            "Training loss (for one batch) at step 0: 0.9098\n",
            "Seen so far: 64 samples\n",
            "Training loss (for one batch) at step 200: 0.4573\n",
            "Seen so far: 12864 samples\n",
            "Training loss (for one batch) at step 400: 0.7323\n",
            "Seen so far: 25664 samples\n",
            "Training loss (for one batch) at step 600: 0.6312\n",
            "Seen so far: 38464 samples\n",
            "Time taken: 1.20s\n"
          ],
          "name": "stdout"
        }
      ]
    },
    {
      "cell_type": "code",
      "metadata": {
        "id": "A88tlkROHGkN"
      },
      "source": [
        "!find logdir/ -print"
      ],
      "execution_count": null,
      "outputs": []
    }
  ]
}